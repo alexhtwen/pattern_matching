{
 "cells": [
  {
   "attachments": {},
   "cell_type": "markdown",
   "id": "78f28da3-3161-4cbf-9c7d-fbbe5e9ebd1c",
   "metadata": {
    "tags": []
   },
   "source": [
    "<div style=\"font-family: 'Gen Jyuu Gothic Monospace Medium', 'Noto Sans TC'; font-size: 130%; text-align: center; color: Plum;\">\n",
    "<br>\n",
    "\n",
    "# <font color='Plum'><b>詳談Structural Pattern Matching</b></font>\n",
    "</div>\n",
    "<!-- <br> -->\n",
    "<div style=\"font-family: Inconsolata, 'Noto Sans TC'; font-size: 135%;\">\n",
    "\n",
    "* Python 3.10最重大的新增功能。\n",
    "* 類似C-like系列語言的switch/case，但<font color='Gold'><b>更強大</b></font>(truly awesome)。\n",
    "* 建議找時間熟悉使用。"
   ]
  },
  {
   "attachments": {},
   "cell_type": "markdown",
   "id": "368a9d66",
   "metadata": {},
   "source": [
    "<div style=\"text-align:center\"><img src=\"https://i.imgur.com/MqsfB7X.jpg\" width=\"650\"/></div>"
   ]
  },
  {
   "cell_type": "code",
   "execution_count": 3,
   "id": "b67f39d0-d749-406d-8657-77d2322c14f8",
   "metadata": {
    "tags": []
   },
   "outputs": [
    {
     "data": {
      "text/plain": [
       "'InteractiveShell set.'"
      ]
     },
     "execution_count": 3,
     "metadata": {},
     "output_type": "execute_result"
    },
    {
     "data": {
      "text/plain": [
       "'3.11.1 (main, Jan 28 2023, 18:47:50) [GCC 11.3.0]'"
      ]
     },
     "execution_count": 3,
     "metadata": {},
     "output_type": "execute_result"
    }
   ],
   "source": [
    "import sys\n",
    "\n",
    "from IPython.core.interactiveshell import InteractiveShell\n",
    "\n",
    "InteractiveShell.ast_node_interactivity = 'all'\n",
    "'InteractiveShell set.'\n",
    "sys.version"
   ]
  },
  {
   "attachments": {},
   "cell_type": "markdown",
   "id": "21a9a10c-ac93-4ecd-b056-d9c5bb39e464",
   "metadata": {},
   "source": [
    "<div style=\"font-family: 'Inconsolata', 'Noto Sans TC'; font-size: 135%;\">\n",
    "\n",
    "## <font color='SteelBlue'><b>多重條件時Python的傳統寫法</b></font>\n",
    "\n",
    "* 3.9版以前，Python沒有switch/case，多重條件只能if/elif。筆者覺得這結構「賣相(非功能)不佳」，是Python語法上少數暗點之一。\n",
    "* 當然，這是否為暗點見仁見智，總之個人不大喜歡就是。筆者對此語法有意見，主要原因是<font color='RosyBrown'>'=='</font>右邊的「<font color='RosyBrown'>literal(定數)</font>」或變數無法對齊。\n",
    "* 以下用一個最簡單的例子複習Python傳統的if/elif語法。"
   ]
  },
  {
   "cell_type": "code",
   "execution_count": 86,
   "id": "32df43b7-18ca-450e-94d3-ea96348be3cb",
   "metadata": {},
   "outputs": [
    {
     "name": "stdout",
     "output_type": "stream",
     "text": [
      "I'm a teapot\n"
     ]
    }
   ],
   "source": [
    "http_code = '418'\n",
    "\n",
    "if http_code == '200':  # 這個'200'和下面的'401', '418'等地位相同卻對不齊。\n",
    "    print('OK')\n",
    "elif http_code == '401' or http_code == '403' or http_code == '404':\n",
    "    print('Not Found')\n",
    "elif http_code == '418':\n",
    "    print(\"I'm a teapot\")\n",
    "elif http_code == \"500\":\n",
    "    print('Internal Server Error')\n",
    "else:\n",
    "    print(\"Undefined code\")"
   ]
  },
  {
   "attachments": {},
   "cell_type": "markdown",
   "id": "7ef5e499",
   "metadata": {},
   "source": [
    "<div style=\"text-align:center\"><img src=\"https://i.imgur.com/YDpGhCz.jpg\" width=\"650\"/></div>"
   ]
  },
  {
   "attachments": {},
   "cell_type": "markdown",
   "id": "55e4fa9c-6d99-4d78-b3cc-50a9425c2c2f",
   "metadata": {},
   "source": [
    "<div style=\"font-family: 'Inconsolata', 'Noto Sans TC'; font-size: 135%;\">\n",
    "\n",
    "## <font color='SteelBlue'><b>多重條件的新語法</b></font>\n",
    "\n",
    "* 終於終於，Python從3.10版起可以用類似switch/case的結構了。這個新語法稱為<font color='Gold'><b>Structural Pattern Matching</b></font>，本文簡稱Pattern Matching或Matching。\n",
    "* 以下用Pattern Matching改寫樓上的if/elif。結構簡潔，定數漂亮對齊。"
   ]
  },
  {
   "cell_type": "code",
   "execution_count": 7,
   "id": "ae50e10d-bb6c-42fa-8884-29167b69bf8b",
   "metadata": {
    "tags": []
   },
   "outputs": [
    {
     "name": "stdout",
     "output_type": "stream",
     "text": [
      "I'm a teapot\n"
     ]
    }
   ],
   "source": [
    "http_code = '418'\n",
    "\n",
    "match http_code:\n",
    "    # match和case之間不可以有任何指令。可試打開下面註解掉的任何一行。\n",
    "    # print('Pattern Matching test.')\n",
    "    # if True:\n",
    "    #     pass\n",
    "    case '200':                  # '200'和下面的'401', '418'等對齊，整齊多了。\n",
    "        print ('OK')\n",
    "    case '401' | '403' | '404':  # 可以用'|'表示「或」。\n",
    "        print('Not allowed')\n",
    "    case '418':\n",
    "        print(\"I'm a teapot\")\n",
    "    # 2個cases之間也不能有指令。\n",
    "    # name = \"Alex\"\n",
    "    case '500':\n",
    "        print('Internal Server Error')\n",
    "    case _:                  # 相當於if/elif中的else。\n",
    "        print(\"Undefined code\")"
   ]
  },
  {
   "attachments": {},
   "cell_type": "markdown",
   "id": "a0a266df",
   "metadata": {},
   "source": [
    "<div style=\"text-align:center\"><img src=\"https://i.imgur.com/gjWU5sF.jpg\" width=\"650\"/></div>"
   ]
  },
  {
   "attachments": {},
   "cell_type": "markdown",
   "id": "527d632a-6951-4be9-8e78-c1e1d43fa801",
   "metadata": {
    "tags": []
   },
   "source": [
    "<div style=\"font-family: 'Inconsolata', 'Noto Sans TC'; font-size: 135%;\">\n",
    "\n",
    "## <font color='SteelBlue'><b>Cool，但談不上啥特異功能吔</b></font>\n",
    "\n",
    "* 有人也許會說，這個Pattern Matching很漂亮，可只是語法上的改進或語法甜頭(syntactic sugar)而已，並非「新增功能」。\n",
    "* 沒錯，Pattern Matching能耐如果僅及於此，的確不算新增功能。但上面這段code只是它的基本款，牛刀小試耳。\n",
    "* Pattern Matching絕對不只是C中的switch/case。它功能比switch強大得多，不過學習門檻較高，關卡堡壘不少。必須耐心逐個攻破，方得全貌。"
   ]
  },
  {
   "attachments": {},
   "cell_type": "markdown",
   "id": "48bc5e45",
   "metadata": {},
   "source": [
    "<div style=\"text-align:center\"><img src=\"https://i.imgur.com/WTQTz5U.jpg\" width=\"650\"/></div>"
   ]
  },
  {
   "attachments": {},
   "cell_type": "markdown",
   "id": "37c33b1e",
   "metadata": {},
   "source": [
    "<div style=\"font-family: 'Inconsolata', 'Noto Sans TC'; font-size: 135%;\">\n",
    "\n",
    "## <font color='SteelBlue'><b>Bridge Not so Far</b></font>\n",
    "\n",
    "* 以下筆者將步步為營，謹慎求證，不會重蹈[「市場花園行動」](https://zh.wikipedia.org/wiki/%E5%B8%82%E5%A0%B4%E8%8A%B1%E5%9C%92%E8%A1%8C%E5%8B%95)覆轍。<font color='RosyBrown'>橋雖遠，終有到達一天</font>。\n",
    "* 搶占Pattern Matching灘頭堡的[「諾曼第登陸」](https://zh.wikipedia.org/wiki/%E8%AF%BA%E6%9B%BC%E5%BA%95%E6%88%98%E5%BD%B9)開始："
   ]
  },
  {
   "attachments": {},
   "cell_type": "markdown",
   "id": "8b299b5b",
   "metadata": {},
   "source": [
    "<div style=\"text-align:center\"><img src=\"https://i.imgur.com/5PtBIFZ.jpg\" width=\"650\"/></div>"
   ]
  },
  {
   "attachments": {},
   "cell_type": "markdown",
   "id": "8110c480",
   "metadata": {},
   "source": [
    "<div style=\"text-align:center\"><img src=\"\" width=\"650\"/></div>\n"
   ]
  },
  {
   "attachments": {},
   "cell_type": "markdown",
   "id": "fe2338f6-9cfa-4a5a-8eae-96fdc0a59bdb",
   "metadata": {},
   "source": [
    "<div style=\"font-family: 'Inconsolata', 'Noto Sans TC'; font-size: 135%;\">\n",
    "\n",
    "### <font color='DarkSalmon'><b>1. 寶劍海灘：match和case非保留字</b></font>\n",
    "\n",
    "* 3.10版雖然新增了match/case的matching結構，但match和case這兩個字[只是soft keywords，不是hard keywords](https://www.python.org/dev/peps/pep-0622/)，意思是這兩個key words<font color='Gold'>並未列為保留字</font>(reserved words)。這個聰明措施使得3.10版和之前的版本相容，各位可以放心使用match和case作為變數。\n",
    "* Pattern Matching結構本身的<font color='RosyBrown'>match</font>和<font color='RosyBrown'>case</font>也不是變數。"
   ]
  },
  {
   "cell_type": "code",
   "execution_count": 5,
   "id": "914086d6-f2d3-46d7-b458-395bf6d02eb0",
   "metadata": {},
   "outputs": [
    {
     "name": "stdout",
     "output_type": "stream",
     "text": [
      "Before: match = 'I am a match.'\n",
      "Before: case = 'I am a case.'\n",
      "matches case 0\n",
      "After : match = 'I am a match.'\n",
      "After : case = 'I am a case.'\n"
     ]
    }
   ],
   "source": [
    "match = 'I am a match.'\n",
    "print(f'Before: {match = }')\n",
    "case = 'I am a case.'\n",
    "print(f'Before: {case = }')\n",
    "match match:   # 前面的match是Pattern Matching的關鍵字，後面的match則是變數。\n",
    "# matches case:\n",
    "    case 'I am a match.':\n",
    "        print('matches case 0')\n",
    "    case 'I am a case.':\n",
    "        print('matches case 1')\n",
    "    case _:\n",
    "        print('no match')\n",
    "\n",
    "\n",
    "if 'match' in globals():\n",
    "    print(f'After : {match = }')\n",
    "if 'case' in locals():   # 用globals()和locals()判斷都行。\n",
    "    print(f'After : {case = }')\n",
    "# 經過Pattern Matching之後，match和case的值不變。"
   ]
  },
  {
   "attachments": {},
   "cell_type": "markdown",
   "id": "695b8ffe",
   "metadata": {},
   "source": [
    "<div style=\"text-align:center\"><img src=\"https://i.imgur.com/i1ArczU.jpg\" width=\"650\"/></div>"
   ]
  },
  {
   "attachments": {},
   "cell_type": "markdown",
   "id": "106fe937-f571-4c02-8dca-7b01c70456d4",
   "metadata": {
    "tags": []
   },
   "source": [
    "<div style=\"font-family: 'Inconsolata', 'Noto Sans TC'; font-size: 135%;\">\n",
    "\n",
    "### <font color='DarkSalmon'><b>2. 朱諾海灘：pattern內可以有變數</b></font>\n",
    "* Pattern Matching就是可以用'<font color='Chartreuse'>pattern</font>'來比對。\n",
    "* 意思是：case的後面除了literal「定數」外，還可以是個pattern。\n",
    "* pattern比對順序由上至下，而且最多只有1個匹配。前面的pattern匹配到，就自動跳離match結構，不再往後比對。因此case內不必也不能有break。\n",
    "* 本節重點是：<font color='Gold'><b>pattern內可以使用變數</b></font>。這是Pattern Matching比switch/case強大的一大原因。\n",
    "* 下例的pattern是比對一個dict。"
   ]
  },
  {
   "cell_type": "code",
   "execution_count": 8,
   "id": "c34961c2-43c4-4965-861c-61f80f1a2d61",
   "metadata": {},
   "outputs": [
    {
     "name": "stdout",
     "output_type": "stream",
     "text": [
      "matches case 1\n"
     ]
    }
   ],
   "source": [
    "dict_to_match = {'name': 'Becca', 'age': 28}\n",
    "# dict_to_match = {'name': 'Becca', 'age': 6}\n",
    "match dict_to_match:      # 所謂Pattern Matching，就是可以用'pattern'來比對。\n",
    "    # case後面的就是pattern。\n",
    "    case {'name': 'Alex', 'age': 38}:   # ．此pattern比對'Alex'和38。\n",
    "        print('matches case 0')         #   匹配到會自動跳離，不須也不能寫break。\n",
    "    case {'name': name, 'age': age}:    # ．以變數name和age比對任何名稱和年齡。\n",
    "        print('matches case 1')         #   value的變數名稱不一定要和key名稱相同。\n",
    "    case {'name': name1, 'age': age1}:  # ．本pattern和case 1的pattern完全相同。因\n",
    "        print('matches case 2')         #   case 1較優先，所以本pattern永遠不會有匹配。\n",
    "    case _:\n",
    "        print('no match')"
   ]
  },
  {
   "attachments": {},
   "cell_type": "markdown",
   "id": "86d580ca",
   "metadata": {},
   "source": [
    "<div style=\"text-align:center\"><img src=\"https://i.imgur.com/6gBZSif.jpg\" width=\"650\"/></div>"
   ]
  },
  {
   "attachments": {},
   "cell_type": "markdown",
   "id": "9829180d-dad9-4c5d-9f57-477603c361bd",
   "metadata": {},
   "source": [
    "<div style=\"font-family: 'Inconsolata', 'Noto Sans TC'; font-size: 135%;\">\n",
    "\n",
    "### <font color='DarkSalmon'><b>3. 黃金海灘：pattern不必包含dict的全部keys</b></font>\n",
    "* 要比對的物件(即match後面的變數)如果是dict，<font color='Gold'>pattern不一定要包含該dict所有的keys</font>。\n",
    "* 可少卻不可多。如果pattern多出一個原dict沒有的key，就無法匹配。\n",
    "* 原dict和pattern的keys順序可以不一樣。"
   ]
  },
  {
   "cell_type": "code",
   "execution_count": 51,
   "id": "c0cdd8a3-f558-4a58-8e32-48e325c717ea",
   "metadata": {
    "tags": []
   },
   "outputs": [
    {
     "name": "stdout",
     "output_type": "stream",
     "text": [
      "obj to be matched: {'id': 1, 'info': {'name': 'Ed', 'age': 49, 'eye': 'black'}}\n",
      "pattern          : {'id': id, 'info': {'name': name, 'age': age}}\n",
      "matches case 0   : {'id': 1, 'info': {'name': 'Ed', 'age': 49}}\n",
      "\n",
      "obj to be matched: {'id': 2, 'name': 'Lotus', 'gender': 'F', 'bmi': 21.2}\n",
      "pattern         : _\n",
      "no match\n",
      "\n",
      "obj to be matched: {'id': 3, 'name': {'last': '林', 'first': '蓮'}, 'bmi': 19.3}\n",
      "pattern         : {'name': {'first': first, 'last': last}, 'id': id}\n",
      "matches case 2  : {'name': {'first': '蓮', 'last': '林'}, 'id': 3}\n",
      "\n"
     ]
    }
   ],
   "source": [
    "def match(obj: object) -> tuple:\n",
    "    match obj:\n",
    "        case {'id': id,      # 本pattern匹配任何有這些keys的dict。\n",
    "              'info': {'name': name, 'age': age}}:  # pattern不須包括dict的全部keys。\n",
    "            match_obj = {'id': id, 'info': {'name': name, 'age': age}}\n",
    "            prompt = r\"pattern          : {'id': id, 'info': {'name': name, 'age': age}}\"\n",
    "            case = f'matches case 0   : {match_obj}' \n",
    "            return_value = prompt, case\n",
    "        case {'id': id,       # 比對dict時，pattern的key可少卻不可多。\n",
    "              'name': name,   # 每次傳入的person，都沒有一個'edu'的key，\n",
    "              'edu': edu,     # 所以本pattern無法匹配任何person。\n",
    "              'bmi': bmi}:\n",
    "            match_obj = {'id': id, 'name': name, 'edu': edu, 'bmi': bmi}\n",
    "            prompt = r\"pattern         : {'id': id, 'name': name, 'edu': edu, 'bmi': bmi}\"\n",
    "            case = f'matches case 1  : {match_obj}'\n",
    "            return_value = prompt, case\n",
    "        case {'name': {'first': first, 'last': last,}, 'id': id}:   # keys的順序無所謂。\n",
    "            match_obj = {'name': {'first': first, 'last': last}, 'id': id}\n",
    "            prompt = r\"pattern         : {'name': {'first': first, 'last': last}, 'id': id}\"\n",
    "            case = f'matches case 2  : {match_obj}'\n",
    "            return_value = prompt, case\n",
    "        case _:  # 以上皆非\n",
    "            match_obj = 'no match'\n",
    "            prompt = r'pattern         : _'\n",
    "            case = f'{match_obj}'\n",
    "            return_value = prompt, case\n",
    "    return return_value\n",
    "\n",
    "# 這個persons內的元素是要被比對的物件。\n",
    "persons = [\n",
    "    {'id': 1, 'info': {'name': 'Ed', 'age': 49, 'eye': 'black'}},\n",
    "    {'id': 2, 'name': 'Lotus', 'gender': 'F', 'bmi': 21.2},\n",
    "    {'id': 3, 'name': {'last': '林', 'first': '蓮'}, 'bmi': 19.3},\n",
    "]\n",
    "\n",
    "for person in persons:\n",
    "    print(f'obj to be matched: {person}')\n",
    "    print(f'{match(person)[0]}\\n{match(person)[1]}\\n')"
   ]
  },
  {
   "attachments": {},
   "cell_type": "markdown",
   "id": "914f5596",
   "metadata": {},
   "source": [
    "<div style=\"text-align:center\"><img src=\"https://i.imgur.com/tHGNOYq.jpg\" width=\"650\"/></div>"
   ]
  },
  {
   "attachments": {},
   "cell_type": "markdown",
   "id": "247a93d4-5fb9-4f0f-bed6-4a3b72e27a24",
   "metadata": {
    "tags": []
   },
   "source": [
    "<div style=\"font-family: 'Inconsolata', 'Noto Sans TC'; font-size: 135%;\">\n",
    "\n",
    "### <font color='DarkSalmon'><b>4. 奧馬哈海灘：list和tuple意義相同</b></font>\n",
    "* 比對時list和tuple意義完全相同，都是<font color='Gold'>sequence</font>(序列)。\n",
    "* 所謂sequence，可粗略理解成「<font color='RosyBrown'>可使用索引以及切片</font>」的型別，如list, tuple和str。\n",
    "* 而Matching機制為了避免產生某些錯誤，在match sequence時排除了str。所以<font color='Gold'>str不歸sequence管，是獨立比對的</font>。"
   ]
  },
  {
   "cell_type": "code",
   "execution_count": 52,
   "id": "e3970657-9d06-4897-b381-9207ce242c90",
   "metadata": {},
   "outputs": [
    {
     "name": "stdout",
     "output_type": "stream",
     "text": [
      "obj to be matched: [0, 1]\n",
      "pattern          : (item1, item2)\n",
      "matches case 0   : (0, 1)\n",
      "\n",
      "obj to be matched: (True, False, None)\n",
      "pattern          : [item1, item2, item3]\n",
      "matches case 1   : [True, False, None]\n",
      "\n",
      "obj to be matched: [[0, 1, 1, 2, 3, 5], (2, 3, 5, 7, 11, 13)]\n",
      "pattern          : (item1, item2)\n",
      "matches case 0   : ([0, 1, 1, 2, 3, 5], (2, 3, 5, 7, 11, 13))\n",
      "\n",
      "obj to be matched: (2.71828,)\n",
      "pattern          : _\n",
      "no match\n",
      "\n",
      "obj to be matched: ['春分', '夏至', '秋分', '冬至']\n",
      "pattern          : _\n",
      "no match\n",
      "\n",
      "obj to be matched: ()\n",
      "pattern          : _\n",
      "no match\n",
      "\n",
      "obj to be matched: ['Isaac Newton', 'Albert Einstein']\n",
      "pattern          : _\n",
      "no match\n",
      "\n"
     ]
    }
   ],
   "source": [
    "def match(obj: object) -> tuple:\n",
    "    match obj:\n",
    "        case (item1, item2):\n",
    "            match_obj = (item1, item2)\n",
    "            prompt = r'pattern          : (item1, item2)'\n",
    "            case = f'matches case 0   : {match_obj}'\n",
    "            return_value = prompt, case            \n",
    "        case [item1, item2, item3]:\n",
    "            match_obj = [item1, item2, item3]\n",
    "            prompt = r'pattern          : [item1, item2, item3]'\n",
    "            case = f'matches case 1   : {match_obj}'\n",
    "            return_value = prompt, case            \n",
    "        case 'pi':\n",
    "            match_obj = 'pi'\n",
    "            prompt = r\"pattern          : 'pi'\"\n",
    "            case = f'matches case 2   : {match_obj}'\n",
    "            return_value = prompt, case            \n",
    "        case _:\n",
    "            match_obj = 'no match'\n",
    "            prompt = r'pattern          : _'\n",
    "            case = f'{match_obj}'\n",
    "            return_value = prompt, case                        \n",
    "    return return_value\n",
    "\n",
    "\n",
    "objs = (\n",
    "    [0, 1],                                       # 2-item list\n",
    "    (True, False, None),                          # 3-item tuple\n",
    "    [[0, 1, 1, 2, 3, 5], (2, 3, 5, 7, 11, 13)],   # 2-item list\n",
    "    (2.71828,),                                   # 1-item tuple(Euler's number, e)\n",
    "    ['春分', '夏至', '秋分', '冬至'],           # 4-item list\n",
    "    (),                                           # 0-item tuple\n",
    "    \"['Isaac Newton', 'Albert Einstein']\",         # str\n",
    ")\n",
    "    \n",
    "for obj in objs:\n",
    "    print(f'obj to be matched: {obj}')\n",
    "    print(f'{match(obj)[0]}\\n{match(obj)[1]}\\n')"
   ]
  },
  {
   "attachments": {},
   "cell_type": "markdown",
   "id": "cf476614",
   "metadata": {},
   "source": [
    "<div style=\"text-align:center\"><img src=\"https://i.imgur.com/bR5Ztp7.png\" width=\"650\"/></div>"
   ]
  },
  {
   "attachments": {},
   "cell_type": "markdown",
   "id": "c4930339-dd69-45de-9b4a-5f739b8460fc",
   "metadata": {},
   "source": [
    "<div style=\"font-family: 'Inconsolata', 'Noto Sans TC'; font-size: 135%;\">\n",
    "\n",
    "### <font color='DarkSalmon'><b>5. 猶他海灘：支援萬用字元</b></font>\n",
    "* Pattern Matching支援wildcards(萬用或百搭)字元比對，如<font color='Gold'><b>[x, y, *rest]</b></font>或<font color='Gold'><b>(x, y, *rest)</b></font>。意思是：這2個patterns要比對2-N個元素的sequence(list or tuple)。rest可以改用其他合法變數名稱如<font color='RosyBrown'>[x, y, *others]</font>或者<font color='RosyBrown'>(x, y, *others)</font>。\n",
    "* <font color='Gold'><b>*rest</b></font>其實就是Python著名的[unpacking秘技](https://www.learncodewithmike.com/2019/12/python-unpacking.html)。\n",
    "* <font color='Gold'><b>[x, y, *&#95;]</b></font>或<font color='Gold'><b>(x, y, *&#95;)</b></font>則較為特殊。以筆者測試後的粗淺理解，這個寫法意思是比對一個最少有2個元素的sequence，可是第3個以後的元素卻不會unpack，或者說它也有unpack，但方式和一般不同。\n",
    "* 至於dict的比對，也支援wildcard<font color='Gold' ><b>&#42;&#42;rest</b></font>，但不允許用<font color='Gold' ><b>**&#95;</b></font>。"
   ]
  },
  {
   "cell_type": "code",
   "execution_count": 53,
   "id": "d77ad7a5-17d9-47c7-a89e-676789d190f5",
   "metadata": {},
   "outputs": [
    {
     "name": "stdout",
     "output_type": "stream",
     "text": [
      "obj to be matched: ('Σ',)\n",
      "pattern         : _\n",
      "no match\n",
      "\n",
      "obj to be matched: ['Σ', 'Φ']\n",
      "pattern         : (item1, item2)\n",
      "matches case 0  : ('Σ', 'Φ')\n",
      "\n",
      "obj to be matched: ('Σ', 'Φ', 'Θ', 'Ψ', 'Ω')\n",
      "pattern         : [item1, item2, *others]\n",
      "matches case 1  : ['Σ', 'Φ', 'Θ', 'Ψ', 'Ω']\n",
      "\n",
      "obj to be matched: {'name': '王羲之', 'category': '書法', 'piece': '蘭亭集序'}\n",
      "pattern         : {\"name\": name, **other_pairs}\n",
      "matches case 3  : ('王羲之', {'category': '書法', 'piece': '蘭亭集序'})\n",
      "\n"
     ]
    }
   ],
   "source": [
    "def match(obj: object) -> tuple:\n",
    "    match obj:\n",
    "        case (item1, item2):\n",
    "            match_obj = (item1, item2)\n",
    "            prompt = r'pattern         : (item1, item2)'\n",
    "            case = f'matches case 0  : {match_obj}'\n",
    "            return_value = prompt, case                        \n",
    "        case [item1, item2, *others]:  # 請試註解掉這個case區塊，看結果如何。\n",
    "            match_obj = [item1, item2, *others]\n",
    "            prompt = r'pattern         : [item1, item2, *others]'\n",
    "            case = f'matches case 1  : {match_obj}'\n",
    "            return_value = prompt, case                        \n",
    "        case (item1, item2, *_):\n",
    "            match_obj = (item1, item2, *_)     # 這裡'_'就好，不要'*_'再unpack一次。\n",
    "            prompt = r'pattern         : (item1, item2, *_)'\n",
    "            case = f'matches case 2  : {match_obj}'\n",
    "            return_value = prompt, case                                    \n",
    "        case {\"name\": name, **other_pairs}:   # 用**other_pairs來百搭dict其他的pairs。\n",
    "            match_obj = (name, other_pairs)\n",
    "            prompt = r'pattern         : {\"name\": name, **other_pairs}'\n",
    "            case = f'matches case 3  : {match_obj}'\n",
    "            return_value = prompt, case\n",
    "        # case {\"name\": name, **_}:             # invalid syntax\n",
    "            # match_obj = (\"name\": name, _)\n",
    "            # prompt = r'pattern         : {\"name\": name, **_}'\n",
    "            # case = f'matches case 4  : {match_obj}'\n",
    "            # return_value = prompt, case                     \n",
    "        case _:\n",
    "            match_obj = 'no match'\n",
    "            prompt = r'pattern         : _'\n",
    "            case = f'{match_obj}'\n",
    "            return_value = prompt, case                     \n",
    "    return return_value\n",
    "\n",
    "objs = (\n",
    "    ('Σ',),                      # 1-item tuple(no match)\n",
    "    ['Σ', 'Φ'],                  # 2-item list(matches case 0)\n",
    "    ('Σ', 'Φ', 'Θ', 'Ψ', 'Ω'),   # 5-item tuple(matches case 1)\n",
    "    {'name': '王羲之', 'category': '書法', 'piece': '蘭亭集序'},  # dict(matches case 3)\n",
    ")\n",
    "\n",
    "for obj in objs:\n",
    "    print(f'obj to be matched: {obj}')\n",
    "    print(f'{match(obj)[0]}\\n{match(obj)[1]}\\n')"
   ]
  },
  {
   "attachments": {},
   "cell_type": "markdown",
   "id": "bbfe1c96",
   "metadata": {},
   "source": [
    "<div style=\"text-align:center\"><img src=\"https://i.imgur.com/0G0ZEFZ.jpg\" width=\"650\"/></div>"
   ]
  },
  {
   "attachments": {},
   "cell_type": "markdown",
   "id": "30ebd4dd-663a-456f-8285-ace1dc7c9cad",
   "metadata": {
    "tags": []
   },
   "source": [
    "<div style=\"font-family: 'Inconsolata', 'Noto Sans TC'; font-size: 135%;\">\n",
    "\n",
    "### <font color='DarkSalmon'><b>6. 瑟堡：設定變數型別</b></font>\n",
    "* pattern中的變數如果沒有指定型別，會匹配任何型別物件。\n",
    "* 可用<font color='Gold'><b>str(var)</b></font>, <font color='Gold'><b>int(var)</b></font>, <font color='Gold'><b>float(var)</b></font>等指明型別。"
   ]
  },
  {
   "cell_type": "code",
   "execution_count": 54,
   "id": "01790bbb-1fb8-4844-b35d-1949e0b17a86",
   "metadata": {
    "tags": []
   },
   "outputs": [
    {
     "name": "stdout",
     "output_type": "stream",
     "text": [
      "obj to be matched: ('沈括', '張衡')\n",
      "pattern         : [str(item1), str(item2)]\n",
      "matches case 0  : ['沈括', '張衡']\n",
      "\n",
      "obj to be matched: [1644, 1912]\n",
      "pattern         : _\n",
      "no match\n",
      "\n",
      "obj to be matched: [1.3247, 1.618]\n",
      "pattern         : _\n",
      "no match\n",
      "\n",
      "obj to be matched: (0, 3.1415927)\n",
      "pattern         : (int(num1), float(num2))\n",
      "matches case 1  : (0, 3.1415927)\n",
      "\n",
      "obj to be matched: (1.41421, 6174)\n",
      "pattern         : _\n",
      "no match\n",
      "\n"
     ]
    }
   ],
   "source": [
    "def match(obj: object) -> tuple:\n",
    "    match obj:\n",
    "        case [str(item1), str(item2)]:  # 比對1個sequence，內有2個型別為str的元素。\n",
    "            match_obj = [item1, item2]\n",
    "            prompt = r'pattern         : [str(item1), str(item2)]'\n",
    "            case = f'matches case 0  : {match_obj}'\n",
    "            return_value = prompt, case                        \n",
    "            \n",
    "        case (int(num1), float(num2)):  # 比對1個sequence，2個元素，分別是int和float。\n",
    "            match_obj = (num1, num2)\n",
    "            prompt = r'pattern         : (int(num1), float(num2))'\n",
    "            case = f'matches case 1  : {match_obj}'\n",
    "            return_value = prompt, case                        \n",
    "            \n",
    "        case _:                         # 以上皆非\n",
    "            match_obj = 'no match'\n",
    "            prompt = r'pattern         : _'\n",
    "            case = f'{match_obj}'\n",
    "            return_value = prompt, case                        \n",
    "        \n",
    "    return return_value\n",
    "\n",
    "objs = [\n",
    "    ('沈括', '張衡'), # 華夏古代大科學家(匹配case 0)\n",
    "    [1644, 1912],      # 1644年明亡，1912年清亡(無匹配)\n",
    "    [1.3247, 1.618],   # 塑膠數、黃金比例(無匹配)\n",
    "    (0, 3.1415927),    # 南北朝時代祖沖之計算的Pi精確到小數點後7位，領先全球一千多年(匹配case 1)\n",
    "    (1.41421, 6174)    # 畢達哥拉斯常數, 黑洞數(無匹配)\n",
    "]\n",
    "\n",
    "for obj in objs:\n",
    "    print(f'obj to be matched: {obj}')\n",
    "    print(f'{match(obj)[0]}\\n{match(obj)[1]}\\n')"
   ]
  },
  {
   "attachments": {},
   "cell_type": "markdown",
   "id": "51daba16",
   "metadata": {},
   "source": [
    "<div style=\"text-align:center\"><img src=\"https://i.imgur.com/XpGZbfZ.jpg\" width=\"650\"/></div>"
   ]
  },
  {
   "cell_type": "code",
   "execution_count": 55,
   "id": "9965b213-eb8d-44b1-b32c-26d7667b36b4",
   "metadata": {
    "tags": []
   },
   "outputs": [
    {
     "name": "stdout",
     "output_type": "stream",
     "text": [
      "obj to be matched: set()\n",
      "pattern         : set()\n",
      "matches case 0  : set()\n",
      "\n",
      "obj to be matched: {'Spagetti'}\n",
      "pattern         : set()\n",
      "matches case 0  : set()\n",
      "\n",
      "obj to be matched: {'Spagetti', 'Macaroni'}\n",
      "pattern         : set()\n",
      "matches case 0  : set()\n",
      "\n",
      "obj to be matched: {'Spagetti', 'Macaroni', 'Fusilli'}\n",
      "pattern         : set()\n",
      "matches case 0  : set()\n",
      "\n",
      "obj to be matched: {'Spagetti', 'Macaroni', 'Lasagna', 'Fusilli'}\n",
      "pattern         : set()\n",
      "matches case 0  : set()\n",
      "\n"
     ]
    }
   ],
   "source": [
    "def match(obj: object) -> tuple:\n",
    "    match obj:\n",
    "        # 請試註解下面的case，看結果如何。\n",
    "        case set():               # 比對set要用set()，不可以{stuff, ...}。\n",
    "            match_obj = set()     # 此pattern雖匹配任意的set，但抓不到set內元素。\n",
    "            prompt = r'pattern         : set()'\n",
    "            case = f'matches case 0  : {match_obj}'\n",
    "            return_value = prompt, case\n",
    "        # 上下兩個patterns都匹配任意元素的set，所以下面的pattern永遠沒有機會大展身手。\n",
    "        case set(stuff):        # 設定變數，就可以抓到set的所有元素。\n",
    "            match_obj = stuff   # 這裡的set()只接受一個參數，這參數又稱'sub-pattern'。此參數不能有type hint。\n",
    "            prompt = r'pattern         : set(stuff)'\n",
    "            case = f'matches case 1  : {match_obj}'\n",
    "            return_value = prompt, case                        \n",
    "        case _:\n",
    "            match_obj = 'no match'\n",
    "            prompt = r'pattern         : _'\n",
    "            case = f'{match_obj}'\n",
    "            return_value = prompt, case                        \n",
    "    return return_value\n",
    "\n",
    "objs = (\n",
    "    set(),       \n",
    "    {'Spagetti'},                                    # 意粉\n",
    "    {'Spagetti', 'Macaroni'},                        # 意粉, 通粉\n",
    "    {'Spagetti', 'Macaroni', 'Fusilli'},             # 意粉, 通粉, 螺旋粉\n",
    "    {'Spagetti', 'Macaroni', 'Fusilli', 'Lasagna'},  # 意粉, 通粉, 螺旋粉, 千層麵\n",
    ")\n",
    "\n",
    "for obj in objs:\n",
    "    print(f'obj to be matched: {obj}')\n",
    "    print(f'{match(obj)[0]}\\n{match(obj)[1]}\\n')"
   ]
  },
  {
   "attachments": {},
   "cell_type": "markdown",
   "id": "2adbf49c",
   "metadata": {},
   "source": [
    "<div style=\"text-align:center\"><img src=\"https://i.imgur.com/cIEJaNm.jpg\" width=\"650\"/></div>"
   ]
  },
  {
   "attachments": {},
   "cell_type": "markdown",
   "id": "04ad5d89-969b-45de-ad81-ec762b6865d5",
   "metadata": {},
   "source": [
    "<div style=\"font-family: 'Inconsolata', 'Noto Sans TC'; font-size: 135%;\">\n",
    "\n",
    "### <font color='DarkSalmon'><b>8. 眼鏡蛇行動：class也可比對</b></font>\n",
    "* 以下用一個自訂類別<font color='Gold'><b>Couple</b></font>示範class的比對。"
   ]
  },
  {
   "cell_type": "code",
   "execution_count": 63,
   "id": "b3628238-19cf-42ff-a716-04037552fa42",
   "metadata": {
    "tags": []
   },
   "outputs": [
    {
     "name": "stdout",
     "output_type": "stream",
     "text": [
      "obj to be matched: Husband: Alex\tWife: Lotus.\n",
      "pattern         : Couple(husband='Alex', wife='Lotus')\n",
      "matches case 0  : ('Alex', 'Lotus')\n",
      "\n",
      "obj to be matched: Husband: Chris\tWife: Diana.\n",
      "pattern         : Couple(husband=husband, wife=wife)\n",
      "matches case 3  : ('Chris', 'Diana')\n",
      "\n",
      "obj to be matched: Husband: Ethan\tWife: Fiona.\n",
      "pattern         : Couple(husband=husband, wife=wife)\n",
      "matches case 3  : ('Ethan', 'Fiona')\n",
      "\n",
      "obj to be matched: Husband: Grant\tWife: 2021.\n",
      "pattern         : _\n",
      "no match\n",
      "\n"
     ]
    }
   ],
   "source": [
    "class Couple():\n",
    "    def __init__(self, husband: str, wife: str):  # constructor(建構子)\n",
    "        self.husband: str = husband\n",
    "        self.wife: str = wife\n",
    "\n",
    "    def __repr__(self):\n",
    "        return f\"Husband: {self.husband}\\tWife: {self.wife}.\"\n",
    "\n",
    "    def do_housework(self):   # method(方法)\n",
    "        print('We are doing housework...')\n",
    "        return 'doing housework'\n",
    "\n",
    "\n",
    "def match(obj: object) -> tuple:\n",
    "    match obj:\n",
    "        case Couple(husband='Alex', wife='Lotus'):\n",
    "            match_obj = ('Alex', 'Lotus')\n",
    "            prompt = r\"pattern         : Couple(husband='Alex', wife='Lotus')\"\n",
    "            case = f'matches case 0  : {match_obj}'\n",
    "            return_value = prompt, case\n",
    "        case Couple(husband='Arian', wife='Brett'):  #str(wife)):\n",
    "            match_obj = ('Arian', 'Brett')    # wife)\n",
    "            prompt = r\"pattern         : Couple(husband='Arian', wife=wife)\"\n",
    "            case = f'matches case 1  : {match_obj}'\n",
    "            return_value = prompt, case            \n",
    "        case Couple(he=str(husband), she='Diana'):\n",
    "        # case Couple(she='Diana'):\n",
    "            match_obj = ('doing housework.......', )\n",
    "            prompt = r\"pattern         : Couple(do_housework='doing housework')\"\n",
    "            case = f'matches case 2  : {match_obj}'\n",
    "            return_value = prompt, case\n",
    "        # case Couple(do_housework='doing housework'):  # TODO:\n",
    "            # match_obj = ('Diana', )\n",
    "            # print(f'matches case 2  : {match_obj}')\n",
    "            # print(\"pattern         : Couple(husband=husband, wife='Lotus')\" '\\n')\n",
    "            # print(\"pattern         : Couple(she='Diana')\" '\\n')\n",
    "            # print(\"pattern         : Couple(do_housework='doing housework')\" '\\n')\n",
    "        case Couple(husband=str(husband), wife=str(wife)):\n",
    "            match_obj = (husband, wife)\n",
    "            # print(f'matches case 3  : {match_obj}')\n",
    "            # print('pattern         : Couple(husband=husband, wife=wife)' '\\n')\n",
    "            prompt = r'pattern         : Couple(husband=husband, wife=wife)'\n",
    "            case = f'matches case 3  : {match_obj}'\n",
    "            return_value = prompt, case\n",
    "        case _:\n",
    "            match_obj = 'no match'\n",
    "            # print(match_obj)\n",
    "            # print('pattern         : _' '\\n')\n",
    "            # pass\n",
    "            prompt = r'pattern         : _'\n",
    "            case = f'{match_obj}'\n",
    "            return_value = prompt, case        \n",
    "        \n",
    "    return return_value\n",
    "\n",
    "couple1 = Couple('Alex', 'Lotus')  # case 1\n",
    "couple2 = Couple('Chris', 'Diana')  # case 2\n",
    "couple3 = Couple('Ethan', 'Fiona')  # case 3\n",
    "couple4 = Couple('Grant', 2021)     # no match\n",
    "objs = (couple1, couple2, couple3, couple4)\n",
    "\n",
    "for obj in objs:\n",
    "    print(f'obj to be matched: {obj}')\n",
    "    print(f'{match(obj)[0]}\\n{match(obj)[1]}\\n')"
   ]
  },
  {
   "cell_type": "code",
   "execution_count": 61,
   "id": "5d1d6466",
   "metadata": {},
   "outputs": [
    {
     "ename": "TypeError",
     "evalue": "Couple() accepts 0 positional sub-patterns (2 given)",
     "output_type": "error",
     "traceback": [
      "\u001b[0;31m---------------------------------------------------------------------------\u001b[0m",
      "\u001b[0;31mTypeError\u001b[0m                                 Traceback (most recent call last)",
      "Cell \u001b[0;32mIn[61], line 14\u001b[0m\n\u001b[1;32m     11\u001b[0m c2 \u001b[39m=\u001b[39m Couple(\u001b[39m\"\u001b[39m\u001b[39mPeter\u001b[39m\u001b[39m\"\u001b[39m, \u001b[39m\"\u001b[39m\u001b[39mMary\u001b[39m\u001b[39m\"\u001b[39m)\n\u001b[1;32m     12\u001b[0m c3 \u001b[39m=\u001b[39m Couple(\u001b[39m\"\u001b[39m\u001b[39mTom\u001b[39m\u001b[39m\"\u001b[39m, \u001b[39m\"\u001b[39m\u001b[39mSusan\u001b[39m\u001b[39m\"\u001b[39m)\n\u001b[0;32m---> 14\u001b[0m do_activity(c1) \u001b[39m# Output: John and Jane are doing an activity together.\u001b[39;00m\n\u001b[1;32m     15\u001b[0m do_activity(c2) \u001b[39m# Output: Peter and Mary are doing an activity together.\u001b[39;00m\n\u001b[1;32m     16\u001b[0m do_activity(c3) \u001b[39m# Output: This couple is not recognized.\u001b[39;00m\n",
      "Cell \u001b[0;32mIn[61], line 3\u001b[0m, in \u001b[0;36mdo_activity\u001b[0;34m(c)\u001b[0m\n\u001b[1;32m      1\u001b[0m \u001b[39mdef\u001b[39;00m \u001b[39mdo_activity\u001b[39m(c: Couple):\n\u001b[1;32m      2\u001b[0m     \u001b[39mmatch\u001b[39;00m c:\n\u001b[0;32m----> 3\u001b[0m         \u001b[39mcase\u001b[39;00m Couple(\u001b[39m\"\u001b[39m\u001b[39mJohn\u001b[39m\u001b[39m\"\u001b[39m, \u001b[39m\"\u001b[39m\u001b[39mJane\u001b[39m\u001b[39m\"\u001b[39m):\n\u001b[1;32m      4\u001b[0m             \u001b[39mprint\u001b[39m(\u001b[39m\"\u001b[39m\u001b[39mJohn and Jane are doing an activity together.\u001b[39m\u001b[39m\"\u001b[39m)\n\u001b[1;32m      5\u001b[0m         \u001b[39mcase\u001b[39;00m Couple(\u001b[39m\"\u001b[39m\u001b[39mPeter\u001b[39m\u001b[39m\"\u001b[39m, \u001b[39m\"\u001b[39m\u001b[39mMary\u001b[39m\u001b[39m\"\u001b[39m):\n",
      "\u001b[0;31mTypeError\u001b[0m: Couple() accepts 0 positional sub-patterns (2 given)"
     ]
    }
   ],
   "source": [
    "def do_activity(c: Couple):\n",
    "    match c:\n",
    "        case Couple(\"John\", \"Jane\"):\n",
    "            print(\"John and Jane are doing an activity together.\")\n",
    "        case Couple(\"Peter\", \"Mary\"):\n",
    "            print(\"Peter and Mary are doing an activity together.\")\n",
    "        case _:\n",
    "            print(\"This couple is not recognized.\")\n",
    "\n",
    "c1 = Couple(\"John\", \"Jane\")\n",
    "c2 = Couple(\"Peter\", \"Mary\")\n",
    "c3 = Couple(\"Tom\", \"Susan\")\n",
    "\n",
    "do_activity(c1) # Output: John and Jane are doing an activity together.\n",
    "do_activity(c2) # Output: Peter and Mary are doing an activity together.\n",
    "do_activity(c3) # Output: This couple is not recognized.\n"
   ]
  },
  {
   "attachments": {},
   "cell_type": "markdown",
   "id": "f007ac6c",
   "metadata": {},
   "source": [
    "<div style=\"text-align:center\"><img src=\"https://i.imgur.com/nX2hdnF.gif\" width=\"650\"/></div>"
   ]
  },
  {
   "attachments": {},
   "cell_type": "markdown",
   "id": "c504d3e0-beaa-492a-90dc-6d65ebe117ac",
   "metadata": {},
   "source": [
    "<div style=\"font-family: 'Inconsolata', 'Noto Sans TC'; font-size: 135%;\">\n",
    "\n",
    "### <font color='DarkSalmon'><b>9. 法萊斯包圍戰：Guard</b></font>\n",
    "* pattern的後面可以加if判斷，這個if clause稱為<font color='Gold'><b>guard</b></font>。\n",
    "* guard的判斷結果為False時，會往下一個case走。\n",
    "* case後面的變數會先抓值，然後交給guard運用。"
   ]
  },
  {
   "cell_type": "code",
   "execution_count": null,
   "id": "5bc6fef7-3e94-45d6-b581-84d7ac249e72",
   "metadata": {},
   "outputs": [],
   "source": [
    "def match(obj: object) -> tuple:\n",
    "    # match_obj = 'no match'\n",
    "    match obj:\n",
    "        case [str(item1), str(item2)] if item1 == item2:  # 2個字串元素必須相同。\n",
    "            match_obj = [item1, item2]\n",
    "            print(f'matches case 0  : {match_obj}')\n",
    "            print(r'pattern         : str(item1), str(item2)] if item1 == item2' '\\n')\n",
    "        case (int(n1), int(n2), int(n3), int(n4), int(n5), int(n6)) \\\n",
    "              if n1 + n2 == n3 and n2 + n3 == n4 and n3 + n4 == n5 and n4 + n5 == n6:\n",
    "            match_obj = (n1, n2, n3, n4, n5, n6)\n",
    "            print(f'matches case 1  : {match_obj}')\n",
    "            print(r'pattern         : (int(n1), int(n2), int(n3), int(n4), int(n5), int(n6)) if n1 + n2 == n3 and n2 + n3 == n4 and n3 + n4 == n5 and n4 + n5 == n6' '\\n')\n",
    "        case (int(n1), int(n2), int(n3), int(n4), int(n5)) if [i**2 for i in range(1, 6)]:\n",
    "        # case (int(n1), int(n2), int(n3), int(n4), int(n5)) if [1, 4, 9, 16, 25]:\n",
    "            match_obj = (n1, n2, n3, n4, n5)\n",
    "            print(f'matches case 2  : {match_obj}')\n",
    "            print(r'pattern         : (int(n1), int(n2), int(n3), int(n4), int(n5)) if [i**2 for i in range(1, 6)]' '\\n')\n",
    "        case [float(f1), float(f2)] if len(str(f1).split('.')[1]) == 4 and len(str(f2).split('.')[0]) == 6:\n",
    "            match_obj = (f1, f2)\n",
    "            print(f'matches case 3  : {match_obj}')\n",
    "            print(r\"pattern         : [float(f1), float(f2)] if len(str(f1).split('.')[1]) == 4 and len(str(f2).split('.')[0]) == 6\" '\\n')\n",
    "        case (bool(b1), bool(b2)) if b1 is not b2:\n",
    "            match_obj = (b1, b2)\n",
    "            print(f'matches case 4  : {match_obj}')\n",
    "            print(r\"pattern         : (bool(b1), bool(b2()) if b1 is not b2\" '\\n')\n",
    "        case {'height': float(h), 'weight': float(w), 'bmi': float(b)} if round(w / h**2, 1) == b:\n",
    "            match_obj = (h, w, b)\n",
    "            print(f'matches case 5  : {match_obj}')\n",
    "            print(r\"pattern         : {'height': float(h), 'weight': float(w), 'bmi': float(b)} if round(w / h**2, 1) == b\" '\\n')\n",
    "        case _:\n",
    "            print(match_obj)\n",
    "            print('pattern         : _' '\\n')\n",
    "            pass\n",
    "    return match_obj\n",
    "\n",
    "objs = [\n",
    "    ('蘇東坡', '蘇東坡'),\n",
    "    ('蘇東坡', '蘇軾'),      # Q: 蘇東坡就是蘇軾，這是常識，電腦怎麼不懂？  A: 這不是AI喔\n",
    "    [0, 1, 1, 2, 3, 5],      # Fibonacci sequence\n",
    "    [1, 4, 9, 16, 25],       # Square Numbers\n",
    "    (1.5396, 299792.458),    # Lieb's square ice constant, 光速(km/s)\n",
    "    [True, False],           # toggle\n",
    "    {'height': 1.68, 'weight': 66.8, 'bmi': 23.7}   # 66.8 / 1.68**2 = 21.7\n",
    "]\n",
    "\n",
    "for obj in objs:\n",
    "    print(f'obj to be matched: {obj}')\n",
    "    print(f'{match(obj)[0]}\\n{match(obj)[1]}\\n')"
   ]
  },
  {
   "attachments": {},
   "cell_type": "markdown",
   "id": "50bb0cf6",
   "metadata": {},
   "source": [
    "<div style=\"text-align:center\"><img src=\"https://i.imgur.com/BUuoLMi.jpg\" width=\"650\"/></div>"
   ]
  },
  {
   "attachments": {},
   "cell_type": "markdown",
   "id": "ab02d071-bb91-4932-a9eb-cd88be59f664",
   "metadata": {},
   "source": [
    "<div style=\"font-family: 'Inconsolata', 'Noto Sans TC'; font-size: 135%;\">\n",
    "\n",
    "### <font color='DarkSalmon'><b>10. 突出部戰役：if/elif大反攻</b></font>\n",
    "* 剛才把Patatern Matching差點捧上天，難道Matching就此完勝，把if/elif甩開十萬八千里不成？\n",
    "* 從實務看，Pattern Matching推出時間也不算短了，可if/elif依然廣泛使用，並沒有任何快遭淘汰跡象。\n",
    "* 再從功能上檢核，究竟有沒有一些地方是Pattern Matching不如傳統if/elif之處，甚至是if/elif能而Matching不能的？\n",
    "    * 「if/elif能而Matching不能」的情形應該是沒有，最少筆者至今沒有發現。\n",
    "    * 不過類似如下的if/elif/else(這裡只談可能性，不管實務上合不合理)，以Pattern Matching來做，就顯得為冗長累贅，if/elif更易閱讀。\n"
   ]
  },
  {
   "cell_type": "code",
   "execution_count": null,
   "id": "58b56ff5",
   "metadata": {},
   "outputs": [],
   "source": [
    "# if/elif版\n",
    "patient = {'gender': 'F', 'age': 39, 'weight': 39, 'height': 178, \n",
    "           'antibiotics': ('amoxicillin', 'cefalexin', 'gentamicin', 'doxycycline', 'levofloxacin')}\n",
    "print('if/elif版：')\n",
    "if patient['gender'] == 'M':\n",
    "    print('gender matched.')\n",
    "elif patient['age'] > 65 or patient['age'] < 20:\n",
    "    print('age matched.')\n",
    "elif patient['weight'] > 60 and patient['height'] <= 175:\n",
    "    print('weight and height matched.')\n",
    "elif 'gentamicin' in patient['antibiotics']:\n",
    "    print('antibiotics matched.')\n",
    "else:\n",
    "    print('no match.')\n",
    " \n",
    "# ------------------- \n",
    "print('\\npattern matching版：')\n",
    "# pattern matching版\n",
    "patient = {'gender': 'F', 'age': 39, 'weight': 39, 'height': 178, \n",
    "           'antibiotics': ('amoxicillin', 'cefalexin', 'gentamicin', 'doxycycline', 'levofloxacin')}\n",
    "\n",
    "match patient:\n",
    "    case {\"gender\": \"M\"}:\n",
    "        print(\"gender matched.\")\n",
    "    case {\"age\": age} if age > 65 or age < 20:\n",
    "        print(f\"age ({age}) matched.\")\n",
    "    case {\"weight\": weight, \"height\": height} if weight > 60 and height <= 175:\n",
    "        print(f\"weight ({weight}) and height ({height}) matched.\")\n",
    "    case {\"antibiotics\": antibiotics}:\n",
    "        if \"gentamicin\" in antibiotics:\n",
    "            print(\"antibiotics matched.\")\n",
    "        else:\n",
    "            print(\"no match.\")\n"
   ]
  },
  {
   "attachments": {},
   "cell_type": "markdown",
   "id": "26cec64d",
   "metadata": {},
   "source": [
    "<div style=\"text-align:center\"><img src=\"https://i.imgur.com/W3y8htB.jpg\" width=\"650\"/></div>"
   ]
  },
  {
   "attachments": {},
   "cell_type": "markdown",
   "id": "3bcbbe98",
   "metadata": {},
   "source": [
    "<div style=\"font-family: 'Inconsolata', 'Noto Sans TC'; font-size: 135%;\">\n",
    "\n",
    "### <font color='DarkSalmon'><b>11. 戰終：給個小結論</b></font>\n",
    "* 綜上所述，Pattern Matching這個Python近年來最大的新語法，的確功能強大，值得花點時間精力學習。\n",
    "* 可是不能將Pattern Matching視為取代<font color='Gold'><b>if/elif</b></font>的工具。if/elif仍絕對有其存在價值。兩者互有優劣，不必尊此而卑彼。"
   ]
  },
  {
   "cell_type": "code",
   "execution_count": 1,
   "id": "2b36b509",
   "metadata": {},
   "outputs": [
    {
     "name": "stdout",
     "output_type": "stream",
     "text": [
      "if/elif版：\n",
      "male.\n",
      "tall.\n",
      "do other stuff.\n",
      "\n",
      "pattern matching版：\n",
      "male.\n",
      "tall.\n",
      "do other stuff.\n"
     ]
    }
   ],
   "source": [
    "# if/elif版\n",
    "patient = {'gender': 'M', 'age': 39, 'weight': 69, 'height': 196, \n",
    "           'antibiotics': ('amoxicillin', 'cefalexin', 'gentamicin', 'doxycycline', 'levofloxacin')}\n",
    "\n",
    "print('if/elif版：')\n",
    "if patient['gender'] == 'M':\n",
    "    print('male.')\n",
    "    if patient['age'] >= 65:\n",
    "        print('senior.')\n",
    "    elif patient['height'] > 195:\n",
    "        print('tall.')\n",
    "    else:\n",
    "        print('not senior or tall.')\n",
    "    print('do other stuff.')\n",
    "else:\n",
    "    print('female.')\n",
    "\n",
    "# ------------------- \n",
    "print('\\npattern matching版：')\n",
    "# pattern matching版\n",
    "match patient:\n",
    "    case {'gender': 'M'}:\n",
    "        print('male.')\n",
    "        match patient:\n",
    "            case {'age': age} if age >= 65:\n",
    "                print('senior.')\n",
    "            case {'height': height} if height > 195:\n",
    "                print('tall.')\n",
    "            case _:    \n",
    "                print('not senior or tall.')\n",
    "        print('do other stuff.')\n",
    "    case _:\n",
    "        print('female.')"
   ]
  },
  {
   "attachments": {},
   "cell_type": "markdown",
   "id": "9aa8f7c2",
   "metadata": {},
   "source": [
    "<div style=\"text-align:center\"><img src=\"https://i.imgur.com/M7Sz32o.jpg\" width=\"650\"/></div>"
   ]
  },
  {
   "attachments": {},
   "cell_type": "markdown",
   "id": "5a6fc674-e850-4ba5-9ae3-46a190f4774c",
   "metadata": {},
   "source": [
    "<div style=\"font-family: 'Inconsolata', 'Noto Sans TC'; font-size: 135%;\">\n",
    "\n",
    "## <font color='SteelBlue'><b>戰後：順便談一個程式邏輯</b></font>\n",
    "\n",
    "<div style=\"text-align:center\"><img src=\"https://i.imgur.com/CzvHJwB.jpg\" width=\"650\"/></div>\n"
   ]
  },
  {
   "attachments": {},
   "cell_type": "markdown",
   "id": "55f96782",
   "metadata": {},
   "source": [
    "<div style=\"font-family: 'Inconsolata', 'Noto Sans TC'; font-size: 135%;\">\n",
    "\n",
    "### <font color='DarkSalmon'><b>多重條件的判斷一定要「先特殊後普通」</b></font>\n",
    "* 連續判斷多個條件而且各條件有「<font color='Gold'>包含</font>」關係時，要把握<font color='Gold'>越specific(特殊)者越先，越general(普通)者越後</font>這個原則。\n",
    "* 萬一不小心寫反，結果很可能不是我們所預期。\n",
    "    * <font color='#ff0003'>most specific = 範圍最窄</font>\n",
    "    * <font color='#f57b20'>most general = 範圍最寬</font>\n",
    "<div style=\"text-align:center\"><img src=\"https://i.imgur.com/c4Cy75H.png\" width=\"650\"/></div>\n"
   ]
  },
  {
   "attachments": {},
   "cell_type": "markdown",
   "id": "31ede308-0ffc-402e-aade-1605f041c545",
   "metadata": {},
   "source": [
    "<div style=\"font-family: 'Inconsolata', 'Noto Sans TC'; font-size: 135%;\">\n",
    "\n",
    "### <font color='DarkSalmon'><b>Example-1</b></font>\n",
    "* 假設：\n",
    "    * 未滿12歲者(範圍最窄)以下的事全不能做。\n",
    "    * 12歲以上可看輔級電影。\n",
    "    * 20歲以上可投票。\n",
    "    * 40歲以上可選總統。\n",
    "    * 65歲以上(範圍最寬)可退休。"
   ]
  },
  {
   "attachments": {},
   "cell_type": "markdown",
   "id": "73cd064b",
   "metadata": {},
   "source": [
    "<div style=\"font-family: 'Inconsolata', 'Noto Sans TC'; font-size: 135%;\">\n",
    "\n",
    "### <font color='DarkSalmon'><b>「先普通後特殊」寫法：錯</b></font>\n",
    "\n",
    "* 再說一次：多重條件時的判斷順序，要從<font color='gold'><b>範圍最窄條件到最寬條件</b></font>，不能倒過來從最寬到最窄。"
   ]
  },
  {
   "cell_type": "code",
   "execution_count": 95,
   "id": "24c23d5a-7422-491b-a0eb-0ec2fda96941",
   "metadata": {
    "tags": []
   },
   "outputs": [
    {
     "name": "stdout",
     "output_type": "stream",
     "text": [
      "10歲：年齡太小，長大再說。\n",
      "12歲：可看輔級電影。\n",
      "20歲：可看輔級電影。\n",
      "39歲：可看輔級電影。\n",
      "40歲：可看輔級電影。\n",
      "67歲：可看輔級電影。\n"
     ]
    }
   ],
   "source": [
    "# 從最general到最specific的寫法錯誤。\n",
    "ages = (10, 12, 20, 39, 40, 67)\n",
    "for age in ages:\n",
    "    print(f'{age}歲：', end='')\n",
    "    if age >= 12:   # 最general(範圍最寬)\n",
    "        print('可看輔級電影。')\n",
    "    elif age >= 20:\n",
    "        print('可看輔級電影和投票。')\n",
    "    elif age >= 40:\n",
    "        print('可看輔級電影、投票和選總統。')\n",
    "    elif age >= 65:   # 最specific(範圍最窄)\n",
    "        print('可看輔級電影、投票、選總統和退休。')\n",
    "    else:\n",
    "        print('年齡太小，長大再說。')"
   ]
  },
  {
   "cell_type": "code",
   "execution_count": null,
   "id": "09ed4942",
   "metadata": {},
   "outputs": [
    {
     "name": "stdout",
     "output_type": "stream",
     "text": [
      "10歲：年齡太小，長大再說。\n",
      "12歲：可看輔級電影。\n",
      "20歲：可看輔級電影。\n",
      "39歲：可看輔級電影。\n",
      "40歲：可看輔級電影。\n",
      "67歲：可看輔級電影。\n"
     ]
    }
   ],
   "source": [
    "# 從最general到最specific的寫法錯誤。\n",
    "ages = (10, 12, 20, 39, 40, 67)\n",
    "for age in ages:\n",
    "    print(f'{age}歲：', end='')\n",
    "    if age >= 12:   # 最general(範圍最寬)\n",
    "        print('可看輔級電影。')\n",
    "    elif age >= 20:\n",
    "        print('可看輔級電影和投票。')\n",
    "    elif age >= 40:\n",
    "        print('可看輔級電影、投票和選總統。')\n",
    "    elif age >= 65:   # 最specific(範圍最窄)\n",
    "        print('可看輔級電影、投票、選總統和退休。')\n",
    "    else:\n",
    "        print('年齡太小，長大再說。')"
   ]
  },
  {
   "cell_type": "code",
   "execution_count": 94,
   "id": "a8358940",
   "metadata": {},
   "outputs": [
    {
     "name": "stdout",
     "output_type": "stream",
     "text": [
      "10歲：可看輔級電影、投票、選總統和退休。\n",
      "12歲：可看輔級電影、投票、選總統和退休。\n",
      "20歲：可看輔級電影、投票、選總統和退休。\n",
      "39歲：可看輔級電影、投票、選總統和退休。\n",
      "40歲：可看輔級電影、投票、選總統和退休。\n",
      "67歲：可看輔級電影、投票、選總統和退休。\n"
     ]
    }
   ],
   "source": [
    "# 這樣還是錯。\n",
    "ages = (10, 12, 20, 39, 40, 67)\n",
    "for age in ages:\n",
    "    print(f'{age}歲：', end='')\n",
    "    if age < 999:   # 最general(範圍最寬)\n",
    "        print('可看輔級電影、投票、選總統和退休。')\n",
    "    elif age < 65:   \n",
    "        print('可看輔級電影、投票和選總統。')\n",
    "    elif age < 40:\n",
    "        print('可看輔級電影和投票。')\n",
    "    elif age < 20:\n",
    "        print('可看輔級電影。')\n",
    "    else:   # 最specific(範圍最窄)\n",
    "        print('年齡太小，長大再說。')"
   ]
  },
  {
   "attachments": {},
   "cell_type": "markdown",
   "id": "aab3a183-7ba3-4724-bcf3-d1a6a4078ef3",
   "metadata": {},
   "source": [
    "<div style=\"font-family: 'Inconsolata', 'Noto Sans TC'; font-size: 135%;\">\n",
    "\n",
    "### <font color='DarkSalmon'><b>修訂為「先特殊後普通」</b></font>\n",
    "\n",
    "* 以下兩種寫法都是正確的，可擇一而用。"
   ]
  },
  {
   "cell_type": "code",
   "execution_count": null,
   "id": "d893e1c8-b1c0-4625-b865-2841219735d3",
   "metadata": {
    "tags": []
   },
   "outputs": [],
   "source": [
    "# 從最specific到最general的寫法才正確。\n",
    "ages = (10, 12, 20, 39, 40, 67)\n",
    "for age in ages:\n",
    "    print(f'{age}歲：', end='')\n",
    "    if age >= 65:   # 最specific(範圍最窄)\n",
    "        print('可看輔級電影、投票、選總統和退休。')\n",
    "    elif age >= 40:\n",
    "        print('可看輔級電影、投票和選總統。')\n",
    "    elif age >= 20:\n",
    "        print('可看輔級電影和投票。')\n",
    "    elif age >= 12:   # 最general(範圍最寬)\n",
    "        print('可看輔級電影。')\n",
    "    else:\n",
    "        print('年齡太小，長大再說。')"
   ]
  },
  {
   "cell_type": "code",
   "execution_count": null,
   "id": "dc562de1",
   "metadata": {},
   "outputs": [],
   "source": [
    "# 從最specific到最general的另一種寫法。\n",
    "ages = (10, 12, 20, 39, 40, 67)\n",
    "for age in ages:\n",
    "    print(f'{age}歲：', end='')\n",
    "    if age < 12:  # 最specific  \n",
    "        print('年齡太小，長大再說。')\n",
    "    elif age < 20:\n",
    "        print('可看輔級電影。')\n",
    "    elif age < 40:\n",
    "        print('可看輔級電影和投票。')\n",
    "    elif age < 65:  # 最general\n",
    "        print('可看輔級電影、投票和選總統。')\n",
    "    else:\n",
    "        print('可看輔級電影、投票、選總統和退休。')\n",
    "        "
   ]
  },
  {
   "attachments": {},
   "cell_type": "markdown",
   "id": "00c65b61",
   "metadata": {},
   "source": [
    "<div style=\"text-align:center\"><img src=\"https://i.imgur.com/wh9tSJ6.jpg\" width=\"650\"/></div>"
   ]
  },
  {
   "attachments": {},
   "cell_type": "markdown",
   "id": "153a1fab",
   "metadata": {},
   "source": [
    "<div style=\"font-family: 'Inconsolata', 'Noto Sans TC'; font-size: 135%;\">\n",
    "\n",
    "### <font color='DarkSalmon'><b>Example-2</b></font>\n",
    "\n",
    "* 某會所根據會員上年度消費金額，畫分為不同等級：\n",
    "\n",
    "    <div style=\"font-size: 80%;\">\n",
    "\n",
    "    |消費金額(元)|會員等級|\n",
    "    |--|--|\n",
    "    | 0-10000        |  奇石會員|\n",
    "    | 10001-100000   |  翡翠會員|\n",
    "    | 100001-500000  |  珍珠會員|\n",
    "    | 500001-1000000 |  黃金會員|\n",
    "    | 1000001-5000000|  白金會員|\n",
    "    | 5000001以上   |鑽石會員|"
   ]
  },
  {
   "cell_type": "code",
   "execution_count": null,
   "id": "4068ebd6",
   "metadata": {},
   "outputs": [],
   "source": [
    "# 錯誤寫法：\n",
    "def get_member_level_gen2spec(amount: int) -> str:\n",
    "    if amount >= 0:    # most general(範圍最寬)\n",
    "        member_level = '奇石會員'\n",
    "    elif amount >= 10001:\n",
    "        member_level = '翡翠會員'\n",
    "    elif amount >= 100001:\n",
    "        member_level = '珍珠會員'\n",
    "    elif amount >= 500001:\n",
    "        member_level = '黃金會員'\n",
    "    elif amount >= 1000001:\n",
    "        member_level = '白金會員'\n",
    "    else:              # most specific(範圍最窄)\n",
    "        member_level = '鑽石會員'\n",
    "    return member_level        \n",
    "\n",
    "# 正確寫法-1\n",
    "def get_member_level_spec2gen_1(amount: int) -> str:\n",
    "    if amount <= 10000:   # most specific(範圍最窄)\n",
    "        member_level = '奇石會員'\n",
    "    elif amount <= 100000:\n",
    "        member_level = '翡翠會員'\n",
    "    elif amount <= 500000:\n",
    "        member_level = '珍珠會員'\n",
    "    elif amount <= 1000000:\n",
    "        member_level = '黃金會員'\n",
    "    elif amount <= 5000000:\n",
    "        member_level = '白金會員'\n",
    "    else:                 # most general(範圍最寬)\n",
    "        member_level = '鑽石會員'\n",
    "    return member_level   \n",
    "\n",
    "# 正確寫法-2        \n",
    "def get_member_level_spec2gen_2(amount: int) -> str:\n",
    "    if amount >= 5000001:    # most specific(範圍最窄)\n",
    "        member_level = '鑽石會員'\n",
    "    elif amount >= 1000001:\n",
    "        member_level = '白金會員'\n",
    "    elif amount >= 500001:\n",
    "        member_level = '黃金會員'\n",
    "    elif amount >= 100001:\n",
    "        member_level = '珍珠會員'\n",
    "    elif amount >= 10001:\n",
    "        member_level = '翡翠會員'\n",
    "    else:                    # most general(範圍最寬)\n",
    "        member_level = '奇石會員'\n",
    "    return member_level                \n",
    "        \n",
    "amounts = (10_000, 90_000, 350_000, 500_001, 4_999_999, 30_000_000)\n",
    "for amount in amounts:\n",
    "    print(f'general to specific  : {amount:,} {get_member_level_gen2spec(amount)}')\n",
    "    print(f'specific to general-1: {amount:,} {get_member_level_spec2gen_1(amount)}')\n",
    "    print(f'specific to general-2: {amount:,} {get_member_level_spec2gen_2(amount)}\\n')"
   ]
  },
  {
   "attachments": {},
   "cell_type": "markdown",
   "id": "2750002f",
   "metadata": {},
   "source": [
    "<div style=\"text-align:center\"><img src=\"https://i.imgur.com/KqDhjxW.jpg\" width=\"650\"/></div>"
   ]
  },
  {
   "attachments": {},
   "cell_type": "markdown",
   "id": "48f024b3",
   "metadata": {},
   "source": [
    "<div style=\"text-align:center\"><img src=\"\" width=\"650\"/></div>"
   ]
  }
 ],
 "metadata": {
  "kernelspec": {
   "display_name": "Python 3",
   "language": "python",
   "name": "python3"
  },
  "language_info": {
   "codemirror_mode": {
    "name": "ipython",
    "version": 3
   },
   "file_extension": ".py",
   "mimetype": "text/x-python",
   "name": "python",
   "nbconvert_exporter": "python",
   "pygments_lexer": "ipython3",
   "version": "3.11.1"
  },
  "vscode": {
   "interpreter": {
    "hash": "916dbcbb3f70747c44a77c7bcd40155683ae19c65e1c03b4aa3499c5328201f1"
   }
  }
 },
 "nbformat": 4,
 "nbformat_minor": 5
}
